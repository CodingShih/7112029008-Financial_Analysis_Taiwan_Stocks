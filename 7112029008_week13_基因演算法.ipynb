{
  "cells": [
    {
      "cell_type": "code",
      "execution_count": null,
      "metadata": {
        "colab": {
          "base_uri": "https://localhost:8080/"
        },
        "id": "E_AsWYTikxeJ",
        "outputId": "07be084f-7b59-4d1c-c3a4-4f44475cdcd8"
      },
      "outputs": [
        {
          "name": "stdout",
          "output_type": "stream",
          "text": [
            "Requirement already satisfied: yfinance in /usr/local/lib/python3.10/dist-packages (0.2.49)\n",
            "Requirement already satisfied: pandas>=1.3.0 in /usr/local/lib/python3.10/dist-packages (from yfinance) (2.2.2)\n",
            "Requirement already satisfied: numpy>=1.16.5 in /usr/local/lib/python3.10/dist-packages (from yfinance) (1.26.4)\n",
            "Requirement already satisfied: requests>=2.31 in /usr/local/lib/python3.10/dist-packages (from yfinance) (2.32.3)\n",
            "Requirement already satisfied: multitasking>=0.0.7 in /usr/local/lib/python3.10/dist-packages (from yfinance) (0.0.11)\n",
            "Requirement already satisfied: lxml>=4.9.1 in /usr/local/lib/python3.10/dist-packages (from yfinance) (5.3.0)\n",
            "Requirement already satisfied: platformdirs>=2.0.0 in /usr/local/lib/python3.10/dist-packages (from yfinance) (4.3.6)\n",
            "Requirement already satisfied: pytz>=2022.5 in /usr/local/lib/python3.10/dist-packages (from yfinance) (2024.2)\n",
            "Requirement already satisfied: frozendict>=2.3.4 in /usr/local/lib/python3.10/dist-packages (from yfinance) (2.4.6)\n",
            "Requirement already satisfied: peewee>=3.16.2 in /usr/local/lib/python3.10/dist-packages (from yfinance) (3.17.8)\n",
            "Requirement already satisfied: beautifulsoup4>=4.11.1 in /usr/local/lib/python3.10/dist-packages (from yfinance) (4.12.3)\n",
            "Requirement already satisfied: html5lib>=1.1 in /usr/local/lib/python3.10/dist-packages (from yfinance) (1.1)\n",
            "Requirement already satisfied: soupsieve>1.2 in /usr/local/lib/python3.10/dist-packages (from beautifulsoup4>=4.11.1->yfinance) (2.6)\n",
            "Requirement already satisfied: six>=1.9 in /usr/local/lib/python3.10/dist-packages (from html5lib>=1.1->yfinance) (1.16.0)\n",
            "Requirement already satisfied: webencodings in /usr/local/lib/python3.10/dist-packages (from html5lib>=1.1->yfinance) (0.5.1)\n",
            "Requirement already satisfied: python-dateutil>=2.8.2 in /usr/local/lib/python3.10/dist-packages (from pandas>=1.3.0->yfinance) (2.8.2)\n",
            "Requirement already satisfied: tzdata>=2022.7 in /usr/local/lib/python3.10/dist-packages (from pandas>=1.3.0->yfinance) (2024.2)\n",
            "Requirement already satisfied: charset-normalizer<4,>=2 in /usr/local/lib/python3.10/dist-packages (from requests>=2.31->yfinance) (3.4.0)\n",
            "Requirement already satisfied: idna<4,>=2.5 in /usr/local/lib/python3.10/dist-packages (from requests>=2.31->yfinance) (3.10)\n",
            "Requirement already satisfied: urllib3<3,>=1.21.1 in /usr/local/lib/python3.10/dist-packages (from requests>=2.31->yfinance) (2.2.3)\n",
            "Requirement already satisfied: certifi>=2017.4.17 in /usr/local/lib/python3.10/dist-packages (from requests>=2.31->yfinance) (2024.8.30)\n"
          ]
        }
      ],
      "source": [
        "!pip install yfinance"
      ]
    },
    {
      "cell_type": "markdown",
      "metadata": {
        "id": "-BOiCA3JaJ-O"
      },
      "source": [
        "# 資料前處理"
      ]
    },
    {
      "cell_type": "code",
      "execution_count": 1,
      "metadata": {
        "id": "QGNbm6ZO1kLm"
      },
      "outputs": [],
      "source": [
        "# 匯入必要的套件\n",
        "import yfinance as yf  # 用於抓取股票數據的 Yahoo Finance API\n",
        "import numpy as np  # 用於數值計算和陣列操作的數學工具\n",
        "import random  # 用於基因演算法中隨機選擇、交配和突變的工具\n",
        "\n",
        "# 固定隨機種子\n",
        "np.random.seed(1024)\n",
        "random.seed(1024)"
      ]
    },
    {
      "cell_type": "code",
      "execution_count": 2,
      "metadata": {
        "id": "MMkuoM4A1o87"
      },
      "outputs": [],
      "source": [
        "# 計算年化報酬\n",
        "def calculate_annual_return(data):\n",
        "    # 計算總期間的年數\n",
        "    total_days = (data.index[-1] - data.index[0]).days\n",
        "    years = total_days / 365.0\n",
        "\n",
        "    # 初始值\n",
        "    start_value = data.iloc[0]\n",
        "    # 終值\n",
        "    end_value = data.iloc[-1]\n",
        "    return (end_value / start_value) ** (1 / years) - 1\n",
        "\n",
        "\n",
        "# 計算年化波動率\n",
        "def calculate_annual_risk(data):\n",
        "    # 計算每日收益率並移除空值\n",
        "    daily_returns = data.pct_change().dropna()\n",
        "    # 計算年化波動率\n",
        "    return daily_returns.std() * np.sqrt(len(daily_returns))\n",
        "\n",
        "\n",
        "def fetch_stock_data(symbols, start_date, end_date):\n",
        "    # 儲存每隻股票的年化報酬率與年化波動率\n",
        "    stock_returns = []\n",
        "    stock_risks = []\n",
        "\n",
        "    # 迭代所有股票\n",
        "    for symbol in symbols:\n",
        "        data = yf.download(symbol + '.TW', start=start_date, end=end_date)['Adj Close']\n",
        "\n",
        "        # 計算年化報酬率\n",
        "        annual_return = calculate_annual_return(data)\n",
        "        # 計算年化波動率\n",
        "        annual_risk = calculate_annual_risk(data)\n",
        "\n",
        "        # 加入至清單\n",
        "        stock_returns.append(annual_return)\n",
        "        stock_risks.append(annual_risk)\n",
        "\n",
        "    # 回傳每支股票的年化報酬清單、年化波動率\n",
        "    return np.array(stock_returns), np.array(stock_risks)"
      ]
    },
    {
      "cell_type": "code",
      "execution_count": 3,
      "metadata": {
        "colab": {
          "base_uri": "https://localhost:8080/"
        },
        "id": "iUOYfT2s9Xfi",
        "outputId": "b0b94a35-7e32-4241-a27d-d8941be6f221"
      },
      "outputs": [
        {
          "name": "stderr",
          "output_type": "stream",
          "text": [
            "[*********************100%***********************]  1 of 1 completed\n",
            "[*********************100%***********************]  1 of 1 completed\n",
            "[*********************100%***********************]  1 of 1 completed\n",
            "[*********************100%***********************]  1 of 1 completed\n",
            "[*********************100%***********************]  1 of 1 completed\n",
            "[*********************100%***********************]  1 of 1 completed\n",
            "[*********************100%***********************]  1 of 1 completed\n",
            "[*********************100%***********************]  1 of 1 completed\n",
            "[*********************100%***********************]  1 of 1 completed\n",
            "[*********************100%***********************]  1 of 1 completed\n"
          ]
        }
      ],
      "source": [
        "start_date = '2020-01-01'\n",
        "end_date = '2024-12-01'\n",
        "\n",
        "stock_symbols = ['2330', '8249', '5484', '8374', '2359','2377','2464','2467','3533','4562']\n",
        "\n",
        "# 取得 stock_symbols 所有股價資料\n",
        "stock_returns, stock_risks = fetch_stock_data(stock_symbols, start_date, end_date)"
      ]
    },
    {
      "cell_type": "markdown",
      "metadata": {
        "id": "V_ER1dafaQHb"
      },
      "source": [
        "# 基因演算法"
      ]
    },
    {
      "cell_type": "code",
      "execution_count": 4,
      "metadata": {
        "id": "_NelJiFvaPry"
      },
      "outputs": [],
      "source": [
        "# 基因演算法參數\n",
        "population_size = 20 # 族群的大小\n",
        "num_generations = 200 # 世代數\n",
        "mutation_rate = 0.2 # 突變率\n",
        "num_stocks = len(stock_symbols) # 有幾支股票"
      ]
    },
    {
      "cell_type": "markdown",
      "metadata": {
        "id": "cObwIZdFEIH7"
      },
      "source": [
        "<b>夏普比率</b>\n",
        "\n",
        "正值：\n",
        "* 夏普比率 > 1：優秀的投資，回報遠高於風險。\n",
        "* 0 < 夏普比率 ≤ 1：回報合理但風險偏高。\n",
        "\n",
        "負值：\n",
        "* 夏普比率 < 0：回報低於無風險利率，投資績效不佳。"
      ]
    },
    {
      "cell_type": "code",
      "execution_count": 5,
      "metadata": {
        "id": "9FjZ-dqB1h08"
      },
      "outputs": [],
      "source": [
        "# 適應函數\n",
        "def fitness(chromosome):\n",
        "    # 計算投資組合的總報酬\n",
        "    portfolio_return = np.sum(chromosome * stock_returns)\n",
        "    # 計算投資組合的總風險（假設無相關性）\n",
        "    portfolio_risk = np.sqrt(np.sum((chromosome * stock_risks) ** 2))\n",
        "    # 計算選中的股票數量\n",
        "    stock_count = np.sum(chromosome)\n",
        "    # 計算夏普比率（簡化版，未扣無風險利率）\n",
        "    if portfolio_risk > 0: # 分母不得為 0\n",
        "        sharpe_ratio = portfolio_return / portfolio_risk\n",
        "    else:\n",
        "        sharpe_ratio = 0\n",
        "    # 適應值 = 最大化夏普比率 - 股票數量懲罰\n",
        "    # 在投資中，選擇過多的股票會增加管理複雜度和交易成本。這裡通過「股票數量懲罰項」來限制選擇過多股票。\n",
        "    return 0.8 * sharpe_ratio - 0.006 * stock_count\n",
        "\n",
        "# 初始化族群\n",
        "def initialize_population():\n",
        "    return [np.random.randint(0, 2, num_stocks) for _ in range(population_size)]\n",
        "\n",
        "# 選擇\n",
        "def select(population, fitness_scores):\n",
        "    # 找到最小適應值\n",
        "    min_fitness = min(fitness_scores)\n",
        "    #  計算權重（所有直向右位移避免負值）\n",
        "    shifted_fitness = [f - min_fitness + 1e-6 for f in fitness_scores]\n",
        "    # 平移後適應值的總和\n",
        "    total_fitness = sum(shifted_fitness)\n",
        "    # 計算選擇機率\n",
        "    probs = [f / total_fitness for f in shifted_fitness]\n",
        "    # 加權隨機選擇\n",
        "    return population[np.random.choice(range(population_size), p=probs)]\n",
        "\n",
        "# 交配\n",
        "def crossover(parent1, parent2):\n",
        "    '''\n",
        "    舉例:\n",
        "    隨機產生交配點: 假設為3\n",
        "    parent1 = [1, 0, 1, 1, 0]\n",
        "    parent2 = [0, 1, 0, 0, 1]\n",
        "\n",
        "    - 前 3 個基因: 來自parent1。\n",
        "    - 後續基因: 來自parent2。\n",
        "    child1 = [1, 0, 1] + [0, 1] = [1, 0, 1, 0, 1]\n",
        "    child2 = [0, 1, 0] + [1, 0] = [0, 1, 0, 1, 0]\n",
        "    '''\n",
        "    point = np.random.randint(1, max(2, num_stocks - 1))  # 隨機選擇交配點，至少保留 1 個基因\n",
        "    # 前部分基因來自父母 1，後部分基因來自父母 2\n",
        "    child1 = np.concatenate((parent1[:point], parent2[point:]))\n",
        "    # 前部分基因來自父母 2，後部分基因來自父母 1\n",
        "    child2 = np.concatenate((parent2[:point], parent1[point:]))\n",
        "    return child1, child2\n",
        "\n",
        "# 突變\n",
        "def mutate(chromosome):\n",
        "    for i in range(num_stocks):\n",
        "        if random.random() < mutation_rate:  # 按突變機率檢查每個基因\n",
        "            chromosome[i] = 1 - chromosome[i]  # 基因翻轉（0->1 或 1->0）\n",
        "    return chromosome"
      ]
    },
    {
      "cell_type": "code",
      "execution_count": 6,
      "metadata": {
        "colab": {
          "base_uri": "https://localhost:8080/"
        },
        "id": "RUT9WqOT-uJw",
        "outputId": "dfbd344c-343e-4320-adb9-80048dd1512d"
      },
      "outputs": [
        {
          "name": "stdout",
          "output_type": "stream",
          "text": [
            "Generation 1: Best Fitness = 0.8801042531631108\n",
            "Generation 2: Best Fitness = 0.8478250563928379\n",
            "Generation 3: Best Fitness = 0.8955356680219103\n",
            "Generation 4: Best Fitness = 0.873628606647852\n",
            "Generation 5: Best Fitness = 0.9070714276432266\n",
            "Generation 6: Best Fitness = 0.9326005631243067\n",
            "Generation 7: Best Fitness = 0.9438398503093703\n",
            "Generation 8: Best Fitness = 0.9594451337400809\n",
            "Generation 9: Best Fitness = 0.8728798910463283\n",
            "Generation 10: Best Fitness = 0.9645406460035266\n",
            "Generation 11: Best Fitness = 0.9594451337400809\n",
            "Generation 12: Best Fitness = 0.9594451337400809\n",
            "Generation 13: Best Fitness = 0.8907836583078259\n",
            "Generation 14: Best Fitness = 0.9594451337400809\n",
            "Generation 15: Best Fitness = 0.9168547471828801\n",
            "Generation 16: Best Fitness = 0.9152462358967728\n",
            "Generation 17: Best Fitness = 0.901321573739947\n",
            "Generation 18: Best Fitness = 0.9152462358967728\n",
            "Generation 19: Best Fitness = 0.9222012380737459\n",
            "Generation 20: Best Fitness = 0.9645406460035266\n",
            "Generation 21: Best Fitness = 0.9501843175242295\n",
            "Generation 22: Best Fitness = 0.9594451337400809\n",
            "Generation 23: Best Fitness = 0.9278027749090219\n",
            "Generation 24: Best Fitness = 0.9372912284789549\n",
            "Generation 25: Best Fitness = 0.8867707903600398\n",
            "Generation 26: Best Fitness = 0.9120027082986\n",
            "Generation 27: Best Fitness = 0.9257672076373805\n",
            "Generation 28: Best Fitness = 0.9009489010797865\n",
            "Generation 29: Best Fitness = 0.9257672076373805\n",
            "Generation 30: Best Fitness = 0.9481888778161685\n",
            "Generation 31: Best Fitness = 0.9278699448478642\n",
            "Generation 32: Best Fitness = 0.9551271053147716\n",
            "Generation 33: Best Fitness = 0.9372912284789549\n",
            "Generation 34: Best Fitness = 0.9372912284789549\n",
            "Generation 35: Best Fitness = 0.9481888778161685\n",
            "Generation 36: Best Fitness = 0.9222012380737459\n",
            "Generation 37: Best Fitness = 0.9338452797183365\n",
            "Generation 38: Best Fitness = 0.9222012380737459\n",
            "Generation 39: Best Fitness = 0.8587657289142341\n",
            "Generation 40: Best Fitness = 0.9168547471828801\n",
            "Generation 41: Best Fitness = 0.8951145868299049\n",
            "Generation 42: Best Fitness = 0.9152462358967728\n",
            "Generation 43: Best Fitness = 0.9359286086726961\n",
            "Generation 44: Best Fitness = 0.8999921992398553\n",
            "Generation 45: Best Fitness = 0.9152462358967728\n",
            "Generation 46: Best Fitness = 0.9438398503093703\n",
            "Generation 47: Best Fitness = 0.9501843175242295\n",
            "Generation 48: Best Fitness = 0.9645406460035266\n",
            "Generation 49: Best Fitness = 0.8797788540875884\n",
            "Generation 50: Best Fitness = 0.8955356680219103\n",
            "Generation 51: Best Fitness = 0.9501843175242295\n",
            "Generation 52: Best Fitness = 0.9199510404839308\n",
            "Generation 53: Best Fitness = 0.9152462358967728\n",
            "Generation 54: Best Fitness = 0.9338452797183365\n",
            "Generation 55: Best Fitness = 0.9551271053147716\n",
            "Generation 56: Best Fitness = 0.9645406460035266\n",
            "Generation 57: Best Fitness = 0.9645406460035266\n",
            "Generation 58: Best Fitness = 0.9285979947101545\n",
            "Generation 59: Best Fitness = 0.9438398503093703\n",
            "Generation 60: Best Fitness = 0.9551271053147716\n",
            "Generation 61: Best Fitness = 0.9594451337400809\n",
            "Generation 62: Best Fitness = 0.9501843175242295\n",
            "Generation 63: Best Fitness = 0.9285979947101545\n",
            "Generation 64: Best Fitness = 0.9285979947101545\n",
            "Generation 65: Best Fitness = 0.9285979947101545\n",
            "Generation 66: Best Fitness = 0.9285979947101545\n",
            "Generation 67: Best Fitness = 0.941231935923837\n",
            "Generation 68: Best Fitness = 0.9645406460035266\n",
            "Generation 69: Best Fitness = 0.9645406460035266\n",
            "Generation 70: Best Fitness = 0.904923630937219\n",
            "Generation 71: Best Fitness = 0.9168547471828801\n",
            "Generation 72: Best Fitness = 0.9145013272713822\n",
            "Generation 73: Best Fitness = 0.9645406460035266\n",
            "Generation 74: Best Fitness = 0.9645406460035266\n",
            "Generation 75: Best Fitness = 0.9645406460035266\n",
            "Generation 76: Best Fitness = 0.8793287764569111\n",
            "Generation 77: Best Fitness = 0.9359286086726961\n",
            "Generation 78: Best Fitness = 0.8907836583078259\n",
            "Generation 79: Best Fitness = 0.941231935923837\n",
            "Generation 80: Best Fitness = 0.9551271053147716\n",
            "Generation 81: Best Fitness = 0.9438398503093703\n",
            "Generation 82: Best Fitness = 0.9199510404839308\n",
            "Generation 83: Best Fitness = 0.9222012380737459\n",
            "Generation 84: Best Fitness = 0.909758250829159\n",
            "Generation 85: Best Fitness = 0.9326005631243067\n",
            "Generation 86: Best Fitness = 0.9359286086726961\n",
            "Generation 87: Best Fitness = 0.9645406460035266\n",
            "Generation 88: Best Fitness = 0.8904507885622771\n",
            "Generation 89: Best Fitness = 0.9222012380737459\n",
            "Generation 90: Best Fitness = 0.9278027749090219\n",
            "Generation 91: Best Fitness = 0.9594451337400809\n",
            "Generation 92: Best Fitness = 0.9372912284789549\n",
            "Generation 93: Best Fitness = 0.9372912284789549\n",
            "Generation 94: Best Fitness = 0.9438398503093703\n",
            "Generation 95: Best Fitness = 0.9212071157705639\n",
            "Generation 96: Best Fitness = 0.9120027082986\n",
            "Generation 97: Best Fitness = 0.8904507885622771\n",
            "Generation 98: Best Fitness = 0.8793287764569111\n",
            "Generation 99: Best Fitness = 0.8825930731242055\n",
            "Generation 100: Best Fitness = 0.8955356680219103\n",
            "Generation 101: Best Fitness = 0.9199510404839308\n",
            "Generation 102: Best Fitness = 0.9551271053147716\n",
            "Generation 103: Best Fitness = 0.9257672076373805\n",
            "Generation 104: Best Fitness = 0.9372912284789549\n",
            "Generation 105: Best Fitness = 0.9257672076373805\n",
            "Generation 106: Best Fitness = 0.9212071157705639\n",
            "Generation 107: Best Fitness = 0.9212071157705639\n",
            "Generation 108: Best Fitness = 0.9145013272713822\n",
            "Generation 109: Best Fitness = 0.909758250829159\n",
            "Generation 110: Best Fitness = 0.9168547471828801\n",
            "Generation 111: Best Fitness = 0.8857756788568063\n",
            "Generation 112: Best Fitness = 0.8907836583078259\n",
            "Generation 113: Best Fitness = 0.909758250829159\n",
            "Generation 114: Best Fitness = 0.9120027082986\n",
            "Generation 115: Best Fitness = 0.9645406460035266\n",
            "Generation 116: Best Fitness = 0.9645406460035266\n",
            "Generation 117: Best Fitness = 0.9501843175242295\n",
            "Generation 118: Best Fitness = 0.9501843175242295\n",
            "Generation 119: Best Fitness = 0.9594451337400809\n",
            "Generation 120: Best Fitness = 0.9501843175242295\n",
            "Generation 121: Best Fitness = 0.941231935923837\n",
            "Generation 122: Best Fitness = 0.9278699448478642\n",
            "Generation 123: Best Fitness = 0.9120027082986\n",
            "Generation 124: Best Fitness = 0.9212071157705639\n",
            "Generation 125: Best Fitness = 0.9645406460035266\n",
            "Generation 126: Best Fitness = 0.861873269595775\n",
            "Generation 127: Best Fitness = 0.9481888778161685\n",
            "Generation 128: Best Fitness = 0.9285979947101545\n",
            "Generation 129: Best Fitness = 0.9326005631243067\n",
            "Generation 130: Best Fitness = 0.9645406460035266\n",
            "Generation 131: Best Fitness = 0.9594451337400809\n",
            "Generation 132: Best Fitness = 0.9438398503093703\n",
            "Generation 133: Best Fitness = 0.9501843175242295\n",
            "Generation 134: Best Fitness = 0.9594451337400809\n",
            "Generation 135: Best Fitness = 0.9594451337400809\n",
            "Generation 136: Best Fitness = 0.9278027749090219\n",
            "Generation 137: Best Fitness = 0.9359286086726961\n",
            "Generation 138: Best Fitness = 0.9278027749090219\n",
            "Generation 139: Best Fitness = 0.9160620678483824\n",
            "Generation 140: Best Fitness = 0.9438398503093703\n",
            "Generation 141: Best Fitness = 0.9645406460035266\n",
            "Generation 142: Best Fitness = 0.9645406460035266\n",
            "Generation 143: Best Fitness = 0.9278027749090219\n",
            "Generation 144: Best Fitness = 0.9278699448478642\n",
            "Generation 145: Best Fitness = 0.9152462358967728\n",
            "Generation 146: Best Fitness = 0.8887949124157745\n",
            "Generation 147: Best Fitness = 0.9594451337400809\n",
            "Generation 148: Best Fitness = 0.9431536146401278\n",
            "Generation 149: Best Fitness = 0.9338452797183365\n",
            "Generation 150: Best Fitness = 0.9257672076373805\n",
            "Generation 151: Best Fitness = 0.9338452797183365\n",
            "Generation 152: Best Fitness = 0.9645406460035266\n",
            "Generation 153: Best Fitness = 0.9645406460035266\n",
            "Generation 154: Best Fitness = 0.9501843175242295\n",
            "Generation 155: Best Fitness = 0.9278699448478642\n",
            "Generation 156: Best Fitness = 0.9594451337400809\n",
            "Generation 157: Best Fitness = 0.9359286086726961\n",
            "Generation 158: Best Fitness = 0.9551271053147716\n",
            "Generation 159: Best Fitness = 0.909758250829159\n",
            "Generation 160: Best Fitness = 0.9645406460035266\n",
            "Generation 161: Best Fitness = 0.9551271053147716\n",
            "Generation 162: Best Fitness = 0.9338452797183365\n",
            "Generation 163: Best Fitness = 0.909758250829159\n",
            "Generation 164: Best Fitness = 0.9431536146401278\n",
            "Generation 165: Best Fitness = 0.9594451337400809\n",
            "Generation 166: Best Fitness = 0.9501843175242295\n",
            "Generation 167: Best Fitness = 0.9359286086726961\n",
            "Generation 168: Best Fitness = 0.9645406460035266\n",
            "Generation 169: Best Fitness = 0.9501843175242295\n",
            "Generation 170: Best Fitness = 0.8999921992398553\n",
            "Generation 171: Best Fitness = 0.8904507885622771\n",
            "Generation 172: Best Fitness = 0.9359286086726961\n",
            "Generation 173: Best Fitness = 0.9359286086726961\n",
            "Generation 174: Best Fitness = 0.9431536146401278\n",
            "Generation 175: Best Fitness = 0.8955356680219103\n",
            "Generation 176: Best Fitness = 0.901321573739947\n",
            "Generation 177: Best Fitness = 0.858228638725868\n",
            "Generation 178: Best Fitness = 0.9145013272713822\n",
            "Generation 179: Best Fitness = 0.86903553959932\n",
            "Generation 180: Best Fitness = 0.9594451337400809\n",
            "Generation 181: Best Fitness = 0.9438398503093703\n",
            "Generation 182: Best Fitness = 0.876277096843368\n",
            "Generation 183: Best Fitness = 0.9431536146401278\n",
            "Generation 184: Best Fitness = 0.9645406460035266\n",
            "Generation 185: Best Fitness = 0.9438398503093703\n",
            "Generation 186: Best Fitness = 0.8955356680219103\n",
            "Generation 187: Best Fitness = 0.8743044720771577\n",
            "Generation 188: Best Fitness = 0.9050069560129659\n",
            "Generation 189: Best Fitness = 0.9199510404839308\n",
            "Generation 190: Best Fitness = 0.9594451337400809\n",
            "Generation 191: Best Fitness = 0.9594451337400809\n",
            "Generation 192: Best Fitness = 0.9551271053147716\n",
            "Generation 193: Best Fitness = 0.9438398503093703\n",
            "Generation 194: Best Fitness = 0.8999921992398553\n",
            "Generation 195: Best Fitness = 0.8999921992398553\n",
            "Generation 196: Best Fitness = 0.9431536146401278\n",
            "Generation 197: Best Fitness = 0.9359286086726961\n",
            "Generation 198: Best Fitness = 0.8927221009166908\n",
            "Generation 199: Best Fitness = 0.9551271053147716\n",
            "Generation 200: Best Fitness = 0.9594451337400809\n",
            "\n",
            "最佳選股組合: [1 0 1 1 1 1 1 1 1 1]\n",
            "總報酬: 3.3198817730245924\n",
            "總風險: 2.6792382925600142\n"
          ]
        }
      ],
      "source": [
        "# GA 主程式\n",
        "def genetic_algorithm():\n",
        "    # 初始化群體集合\n",
        "    population = initialize_population()\n",
        "\n",
        "    # 迭代所有世代數\n",
        "    for generation in range(num_generations):\n",
        "        # 將群體集合中的群體計算適應性分數（夏普比率）\n",
        "        fitness_scores = [fitness(chromosome) for chromosome in population]\n",
        "        new_population = []\n",
        "        for _ in range(population_size // 2):\n",
        "            # 父母\n",
        "            parent1 = select(population, fitness_scores)\n",
        "            parent2 = select(population, fitness_scores)\n",
        "            # 父母生下兩個小孩\n",
        "            child1, child2 = crossover(parent1, parent2)\n",
        "            # 小孩突變\n",
        "            child1 = mutate(child1)\n",
        "            child2 = mutate(child2)\n",
        "            # 加入新群體集合\n",
        "            new_population.append(child1)\n",
        "            new_population.append(child2)\n",
        "        # 新的群體\n",
        "        population = new_population\n",
        "        best_fitness = max(fitness_scores)\n",
        "        print(f\"Generation {generation + 1}: Best Fitness = {best_fitness}\")\n",
        "    best_index = np.argmax([fitness(chromosome) for chromosome in population])\n",
        "    return population[best_index]\n",
        "\n",
        "# 執行演算法\n",
        "best_portfolio = genetic_algorithm()\n",
        "print(\"\\n最佳選股組合:\", best_portfolio)\n",
        "print(\"總報酬:\", np.sum(best_portfolio * stock_returns))\n",
        "print(\"總風險:\", np.sqrt(np.sum((best_portfolio * stock_risks) ** 2)))"
      ]
    },
    {
      "cell_type": "code",
      "execution_count": 7,
      "metadata": {
        "id": "iBcv6dZsCQpe"
      },
      "outputs": [],
      "source": [
        "def summarize_results(best_portfolio):\n",
        "    print(\"\\n最佳選股組合:\", best_portfolio)\n",
        "    print(\"總報酬:\", np.sum(best_portfolio * stock_returns))\n",
        "    print(\"總風險:\", np.sqrt(np.sum((best_portfolio * stock_risks) ** 2)))\n",
        "    print(\"股票對應的代碼與選擇狀態:\")\n",
        "    for i, symbol in enumerate(stock_symbols):\n",
        "        print(f\"{symbol}: {'選擇' if best_portfolio[i] == 1 else '不選擇'}\")"
      ]
    },
    {
      "cell_type": "code",
      "execution_count": 8,
      "metadata": {
        "colab": {
          "base_uri": "https://localhost:8080/"
        },
        "id": "I9yiFtneCRIx",
        "outputId": "0c7f15aa-bcd0-455f-e300-9219350a52dd"
      },
      "outputs": [
        {
          "name": "stdout",
          "output_type": "stream",
          "text": [
            "\n",
            "最佳選股組合: [1 0 1 1 1 1 1 1 1 1]\n",
            "總報酬: 3.3198817730245924\n",
            "總風險: 2.6792382925600142\n",
            "股票對應的代碼與選擇狀態:\n",
            "2330: 選擇\n",
            "8249: 不選擇\n",
            "5484: 選擇\n",
            "8374: 選擇\n",
            "2359: 選擇\n",
            "2377: 選擇\n",
            "2464: 選擇\n",
            "2467: 選擇\n",
            "3533: 選擇\n",
            "4562: 選擇\n"
          ]
        }
      ],
      "source": [
        "summarize_results(best_portfolio)"
      ]
    },
    {
      "cell_type": "markdown",
      "metadata": {
        "id": "l1ogEUUoaGN3"
      },
      "source": [
        "# 補充：基因生成"
      ]
    },
    {
      "cell_type": "code",
      "execution_count": 9,
      "metadata": {
        "colab": {
          "base_uri": "https://localhost:8080/"
        },
        "id": "5dujW765aFdh",
        "outputId": "daf5e3f2-86bc-45d6-aab6-7b5a76728beb"
      },
      "outputs": [
        {
          "data": {
            "text/plain": [
              "[array([1, 1, 0, 1, 0]),\n",
              " array([0, 1, 0, 0, 1]),\n",
              " array([0, 0, 0, 0, 0]),\n",
              " array([0, 1, 1, 0, 0]),\n",
              " array([0, 0, 1, 1, 1]),\n",
              " array([0, 1, 0, 1, 0]),\n",
              " array([0, 1, 0, 1, 0]),\n",
              " array([1, 1, 1, 0, 0]),\n",
              " array([0, 0, 1, 0, 0]),\n",
              " array([1, 0, 1, 0, 1]),\n",
              " array([0, 0, 0, 0, 1]),\n",
              " array([1, 1, 0, 1, 0]),\n",
              " array([1, 1, 0, 0, 1]),\n",
              " array([1, 1, 0, 0, 1]),\n",
              " array([1, 0, 1, 0, 0]),\n",
              " array([1, 0, 0, 0, 1]),\n",
              " array([0, 1, 1, 1, 0]),\n",
              " array([0, 0, 1, 0, 0]),\n",
              " array([1, 1, 1, 1, 1]),\n",
              " array([1, 0, 0, 0, 0])]"
            ]
          },
          "execution_count": 9,
          "metadata": {},
          "output_type": "execute_result"
        }
      ],
      "source": [
        "# 隨機產生整數0~1之間，5個數，生成20組\n",
        "[np.random.randint(0, 2, 5) for _ in range(20)]"
      ]
    }
  ],
  "metadata": {
    "colab": {
      "provenance": []
    },
    "kernelspec": {
      "display_name": "ForTorch",
      "language": "python",
      "name": "python3"
    },
    "language_info": {
      "codemirror_mode": {
        "name": "ipython",
        "version": 3
      },
      "file_extension": ".py",
      "mimetype": "text/x-python",
      "name": "python",
      "nbconvert_exporter": "python",
      "pygments_lexer": "ipython3",
      "version": "3.10.8"
    }
  },
  "nbformat": 4,
  "nbformat_minor": 0
}
