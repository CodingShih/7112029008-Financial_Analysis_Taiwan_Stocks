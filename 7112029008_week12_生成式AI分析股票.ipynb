{
 "cells": [
  {
   "cell_type": "code",
   "execution_count": 1,
   "metadata": {
    "colab": {
     "base_uri": "https://localhost:8080/"
    },
    "id": "wTAdGJeFc1zV",
    "outputId": "9fdc3b8c-486e-4597-be58-02c0df66db60"
   },
   "outputs": [
    {
     "name": "stdout",
     "output_type": "stream",
     "text": [
      "Requirement already satisfied: yfinance in /usr/local/lib/python3.10/dist-packages (0.2.49)\n",
      "Requirement already satisfied: pandas>=1.3.0 in /usr/local/lib/python3.10/dist-packages (from yfinance) (2.2.2)\n",
      "Requirement already satisfied: numpy>=1.16.5 in /usr/local/lib/python3.10/dist-packages (from yfinance) (1.26.4)\n",
      "Requirement already satisfied: requests>=2.31 in /usr/local/lib/python3.10/dist-packages (from yfinance) (2.32.3)\n",
      "Requirement already satisfied: multitasking>=0.0.7 in /usr/local/lib/python3.10/dist-packages (from yfinance) (0.0.11)\n",
      "Requirement already satisfied: lxml>=4.9.1 in /usr/local/lib/python3.10/dist-packages (from yfinance) (5.3.0)\n",
      "Requirement already satisfied: platformdirs>=2.0.0 in /usr/local/lib/python3.10/dist-packages (from yfinance) (4.3.6)\n",
      "Requirement already satisfied: pytz>=2022.5 in /usr/local/lib/python3.10/dist-packages (from yfinance) (2024.2)\n",
      "Requirement already satisfied: frozendict>=2.3.4 in /usr/local/lib/python3.10/dist-packages (from yfinance) (2.4.6)\n",
      "Requirement already satisfied: peewee>=3.16.2 in /usr/local/lib/python3.10/dist-packages (from yfinance) (3.17.8)\n",
      "Requirement already satisfied: beautifulsoup4>=4.11.1 in /usr/local/lib/python3.10/dist-packages (from yfinance) (4.12.3)\n",
      "Requirement already satisfied: html5lib>=1.1 in /usr/local/lib/python3.10/dist-packages (from yfinance) (1.1)\n",
      "Requirement already satisfied: soupsieve>1.2 in /usr/local/lib/python3.10/dist-packages (from beautifulsoup4>=4.11.1->yfinance) (2.6)\n",
      "Requirement already satisfied: six>=1.9 in /usr/local/lib/python3.10/dist-packages (from html5lib>=1.1->yfinance) (1.16.0)\n",
      "Requirement already satisfied: webencodings in /usr/local/lib/python3.10/dist-packages (from html5lib>=1.1->yfinance) (0.5.1)\n",
      "Requirement already satisfied: python-dateutil>=2.8.2 in /usr/local/lib/python3.10/dist-packages (from pandas>=1.3.0->yfinance) (2.8.2)\n",
      "Requirement already satisfied: tzdata>=2022.7 in /usr/local/lib/python3.10/dist-packages (from pandas>=1.3.0->yfinance) (2024.2)\n",
      "Requirement already satisfied: charset-normalizer<4,>=2 in /usr/local/lib/python3.10/dist-packages (from requests>=2.31->yfinance) (3.4.0)\n",
      "Requirement already satisfied: idna<4,>=2.5 in /usr/local/lib/python3.10/dist-packages (from requests>=2.31->yfinance) (3.10)\n",
      "Requirement already satisfied: urllib3<3,>=1.21.1 in /usr/local/lib/python3.10/dist-packages (from requests>=2.31->yfinance) (2.2.3)\n",
      "Requirement already satisfied: certifi>=2017.4.17 in /usr/local/lib/python3.10/dist-packages (from requests>=2.31->yfinance) (2024.8.30)\n"
     ]
    }
   ],
   "source": [
    "# 安裝yahoo finance套件\n",
    "!pip install yfinance"
   ]
  },
  {
   "cell_type": "code",
   "execution_count": 13,
   "metadata": {
    "id": "VFI9bn0EExHq"
   },
   "outputs": [],
   "source": [
    "import google.generativeai as genai  # Google生成式AI套件Gemini API\n",
    "import os  # 系統檔，用來操作檔案與文件\n",
    "import requests  # 用來發HTTP請求，用於網路爬蟲\n",
    "from bs4 import BeautifulSoup  # 網路爬蟲套件\n",
    "import numpy as np  # 數值計算\n",
    "import pandas as pd  # 資料處理\n",
    "import yfinance as yf  # Yahoo finance 股價資訊\n",
    "import datetime as dt  # 處理日期時間\n",
    "\n",
    "\n",
    "# 爬取股票資訊的類別\n",
    "class StockInfo():\n",
    "\n",
    "    # 取得全部股票的股號、股名\n",
    "    def stock_name(self):\n",
    "      try:\n",
    "        response = requests.get('https://isin.twse.com.tw/isin/C_public.jsp?strMode=2', timeout=10)\n",
    "        response.raise_for_status()  # 檢查 HTTP 回應狀態碼\n",
    "      except requests.exceptions.HTTPError as http_err:\n",
    "        print(f\"HTTP 錯誤發生：{http_err}\")\n",
    "        return None\n",
    "      except requests.exceptions.ConnectionError as conn_err:\n",
    "          print(f\"連線錯誤發生：{conn_err}\")\n",
    "          return None\n",
    "      except requests.exceptions.Timeout as timeout_err:\n",
    "          print(f\"超時錯誤發生：{timeout_err}\")\n",
    "          return None\n",
    "      except requests.exceptions.RequestException as req_err:\n",
    "          print(f\"請求錯誤發生：{req_err}\")\n",
    "          return None\n",
    "\n",
    "      url_data = BeautifulSoup(response.text, 'html.parser')\n",
    "      stock_company = url_data.find_all('tr')\n",
    "\n",
    "      # 資料處理\n",
    "      data = [\n",
    "          (row.find_all('td')[0].text.split('\\u3000')[0].strip(),\n",
    "              row.find_all('td')[0].text.split('\\u3000')[1],\n",
    "              row.find_all('td')[4].text.strip())\n",
    "          for row in stock_company[2:] if len(row.find_all('td')[0].text.split('\\u3000')[0].strip()) == 4\n",
    "      ]\n",
    "\n",
    "      df = pd.DataFrame(data, columns=['股號', '股名', '產業別'])\n",
    "      return df\n",
    "\n",
    "    # 取得股票名稱\n",
    "    def get_stock_name(self, stock_id, name_df):\n",
    "        return name_df.set_index('股號').loc[stock_id, '股名']"
   ]
  },
  {
   "cell_type": "code",
   "execution_count": 14,
   "metadata": {
    "id": "OsHdZHarE9eY"
   },
   "outputs": [],
   "source": [
    "# 分析股票的類別\n",
    "class StockAnalysis():\n",
    "\n",
    "    def __init__(self, gemini_api_key):\n",
    "        # 初始化 Gemini API 金鑰\n",
    "        genai.configure(api_key=gemini_api_key)\n",
    "        '''\n",
    "        可以根據需求更換模型\n",
    "            * gemini-1.5-flash\n",
    "                - 輸入內容：音訊、圖片、影片和文字\n",
    "                - 輸出：文字\n",
    "                - 適合用途：在各種任務中提供快速且多功能的效能\n",
    "            * gemini-1.5-flash-8b\n",
    "                - 輸入內容：音訊、圖片、影片和文字\n",
    "                - 輸出：文字\n",
    "                - 適合用途：大量且較不智慧的工作\n",
    "            * gemini-1.5-pro\n",
    "                - 輸入內容：音訊、圖片、影片和文字\n",
    "                - 輸出：文字\n",
    "                - 適合用途：需要更多智慧功能的複雜推論工作\n",
    "        '''\n",
    "        self.model = genai.GenerativeModel('gemini-1.5-flash')\n",
    "        self.stock_info = StockInfo()  # 實例化 StockInfo 類別\n",
    "        self.name_df = self.stock_info.stock_name()  # 取得台股資訊\n",
    "\n",
    "\n",
    "    # 從 yfinance 取得兩周股價資料\n",
    "    def stock_price(self, stock_id, days=15):\n",
    "        stock_id += '.TW'\n",
    "\n",
    "        end = dt.date.today() # 資料結束時間\n",
    "        start = end - dt.timedelta(days=days) # 資料開始時間\n",
    "        # 下載資料\n",
    "        df = yf.download(stock_id, start=start)\n",
    "\n",
    "        # 更換列名\n",
    "        df.columns = ['開盤價', '最高價', '最低價',\n",
    "                    '收盤價', '調整後收盤價', '成交量']\n",
    "\n",
    "        data = {\n",
    "            '日期': df.index.strftime('%Y-%m-%d').tolist(),\n",
    "            '收盤價': df['收盤價'].tolist(),\n",
    "            '每日報酬': df['收盤價'].pct_change().tolist(),\n",
    "            # '漲跌價差': df['調整後收盤價'].diff().tolist()\n",
    "        }\n",
    "        return data\n",
    "\n",
    "\n",
    "    # 基本面資料\n",
    "    def stock_fundamental(self, stock_id):\n",
    "        stock_id += '.TW'\n",
    "        stock = yf.Ticker(stock_id)\n",
    "        # 營收成長率\n",
    "        quarterly_revenue_growth = np.round(\n",
    "            stock.quarterly_financials.loc['Total Revenue'].pct_change(-1, fill_method=None).dropna().tolist(),\n",
    "            2\n",
    "        )\n",
    "\n",
    "        # 每季EPS\n",
    "        quarterly_eps = np.round(\n",
    "            stock.quarterly_financials.loc['Basic EPS'].dropna().tolist(),\n",
    "            2\n",
    "        )\n",
    "\n",
    "        # EPS季增率\n",
    "        quarterly_eps_growth = np.round(\n",
    "            stock.quarterly_financials.loc['Basic EPS'].pct_change(-1, fill_method=None).dropna().tolist(),\n",
    "            2\n",
    "        )\n",
    "\n",
    "        # 轉換日期\n",
    "        dates = [date.strftime('%Y-%m-%d') for date in stock.quarterly_financials.columns]\n",
    "\n",
    "        data = {\n",
    "            '季日期': dates[:len(quarterly_revenue_growth)],  # 以最短的數據列表長度為准，確保數據對齊\n",
    "            '營收成長率': quarterly_revenue_growth.tolist(),\n",
    "            'EPS': quarterly_eps.tolist(),\n",
    "            'EPS 季增率': quarterly_eps_growth.tolist()\n",
    "        }\n",
    "\n",
    "        return data\n",
    "\n",
    "\n",
    "    # 新聞資料\n",
    "    def stock_news(self, stock_name):\n",
    "      data = []\n",
    "      try:\n",
    "        # 鉅亨網（Anue）的新聞 API，取得 Json 格式資料\n",
    "        json_data = requests.get(f'https://ess.api.cnyes.com/ess/api/v1/news/keyword?q={stock_name}&limit=6&page=1', timeout=10).json()\n",
    "      except requests.exceptions.HTTPError as http_err:\n",
    "          print(f\"HTTP 錯誤發生：{http_err}\")\n",
    "          return data\n",
    "      except requests.exceptions.ConnectionError as conn_err:\n",
    "          print(f\"連線錯誤發生：{conn_err}\")\n",
    "          return data\n",
    "      except requests.exceptions.Timeout as timeout_err:\n",
    "          print(f\"超時錯誤發生：{timeout_err}\")\n",
    "          return data\n",
    "      except requests.exceptions.RequestException as req_err:\n",
    "          print(f\"請求錯誤發生：{req_err}\")\n",
    "          return data\n",
    "\n",
    "\n",
    "      # 依照格式擷取資料\n",
    "      items=json_data['data']['items']\n",
    "      for item in items:\n",
    "        # 網址、標題和日期\n",
    "        news_id = item['newsId']\n",
    "        title = item['title']\n",
    "        publish_at = item['publishAt']\n",
    "\n",
    "        # 使用 UTC 時間格式\n",
    "        utc_time = dt.datetime.utcfromtimestamp(publish_at)\n",
    "        formatted_date = utc_time.strftime('%Y-%m-%d')\n",
    "\n",
    "        try:\n",
    "          # 前往網址擷取內容\n",
    "          url = requests.get(f'https://news.cnyes.com/news/id/{news_id}', timeout=10).content\n",
    "        except requests.exceptions.HTTPError as http_err:\n",
    "            print(f\"HTTP 錯誤發生：{http_err}\")\n",
    "            continue\n",
    "        except requests.exceptions.ConnectionError as conn_err:\n",
    "            print(f\"連線錯誤發生：{conn_err}\")\n",
    "            continue\n",
    "        except requests.exceptions.Timeout as timeout_err:\n",
    "            print(f\"超時錯誤發生：{timeout_err}\")\n",
    "            continue\n",
    "        except requests.exceptions.RequestException as req_err:\n",
    "            print(f\"請求錯誤發生：{req_err}\")\n",
    "            continue\n",
    "\n",
    "        soup = BeautifulSoup(url, 'html.parser')\n",
    "        p_elements=soup .find_all('p')\n",
    "\n",
    "        # 提取段落内容\n",
    "        p=''\n",
    "        for paragraph in p_elements[4:]:\n",
    "            p += paragraph.get_text()\n",
    "        data.append([stock_name, formatted_date ,title,p])\n",
    "      return data\n",
    "\n",
    "\n",
    "    # 取得 gemini 的回應\n",
    "    def _get_reply(self, content_msg):\n",
    "        response = self.model.generate_content(\n",
    "            content_msg, # 傳送的訊息\n",
    "            generation_config=genai.types.GenerationConfig(\n",
    "                max_output_tokens=1600,  # 限制回應的最大 Token 數為 1600\n",
    "                temperature=1.0,  # 調整回應的隨機性（1.0 為適中的隨機性，範圍[0.0, 2.0]，值越高越有創意，值越低個準確）\n",
    "            )\n",
    "        )\n",
    "        reply = response.text\n",
    "        return reply\n",
    "\n",
    "    def stock_gimini_sort(self, message):\n",
    "        content_msg = f'''你現在是一位專業的股票分析師, 會根據各股的專業趨勢分析報告去評斷適不適合投資, 並給予0-100之間的評分。\n",
    "            以 50 分為基準, 有任何正面消息可以加分如: 股價整體上升、法人買超、營收成長上升、新聞有正面消息；\n",
    "            若有任何負面消息必須扣分如: 股價整體下降、法人賣超、營收成長下降、新聞有負面消息。\n",
    "            最後請將所有股票依照評分排序出來。{str(message)}(使用繁體中文回應)'''\n",
    "        reply = self._get_reply(content_msg)\n",
    "        return reply\n",
    "\n",
    "\n",
    "    def stock_gimini_choice(self, message):\n",
    "        content_msg = f'''你現在是一位專業的證券分析師, 你會針對各股的專業趨勢分析報告,\n",
    "            選擇出最適合投資的一檔股票，即便目前都不適合投資也要一定要選出一檔，說明選擇它的理由。\n",
    "            {str(message)}(使用繁體中文回應)'''\n",
    "        reply = self._get_reply(content_msg)\n",
    "        return reply\n",
    "\n",
    "\n",
    "    def stock_gimini_analysis(self, stock_id):\n",
    "        stock_name = self.stock_info.get_stock_name(stock_id, self.name_df)\n",
    "\n",
    "        # 取得股價資訊\n",
    "        price_data = self.stock_price(stock_id)\n",
    "\n",
    "        # 取得新聞資訊\n",
    "        news_data = self.stock_news(stock_name)\n",
    "\n",
    "        # 告訴 Gemini 現在他是什麼角色\n",
    "        content_msg = f'''你現在是一位專業的證券分析師, 你會依據以下資料來進行分析並給出一份完整的分析報告:\n",
    "            近期價格資訊: \\n{price_data}\n",
    "\n",
    "            你現在是一位專業的證券分析師，你會依據以下資料來進行分析並給出一份完整的分析報告:\n",
    "            近期價格資訊: \\n{price_data}'''\n",
    "\n",
    "        stock_value_data = self.stock_fundamental(stock_id)\n",
    "        content_msg += f'每季營收資訊: \\n{stock_value_data}'\n",
    "\n",
    "        content_msg += f'''近期新聞資訊: \\n{news_data}\n",
    "            請給我{stock_name}近期的趨勢報告，請以詳細、嚴謹及專業的角度撰寫此報告，並提及重要的數字(使用繁體中文回應)。\n",
    "        '''\n",
    "        reply = self._get_reply(content_msg)\n",
    "        return reply\n"
   ]
  },
  {
   "cell_type": "markdown",
   "metadata": {
    "id": "kxhTxTfpwzKa"
   },
   "source": [
    "---"
   ]
  },
  {
   "cell_type": "code",
   "execution_count": null,
   "metadata": {
    "id": "y1Xh0BD8njQi"
   },
   "outputs": [],
   "source": [
    "# Gemini API Key\n",
    "gemini_api_key = \"AIz\"#'輸入Gemini API Key'\n",
    "# 建立 StockAnalysis 類別\n",
    "stock_analysis = StockAnalysis(gemini_api_key)"
   ]
  },
  {
   "cell_type": "markdown",
   "metadata": {
    "id": "y0W6uySsug8J"
   },
   "source": [
    "# 單支股價分析"
   ]
  },
  {
   "cell_type": "code",
   "execution_count": 16,
   "metadata": {
    "colab": {
     "base_uri": "https://localhost:8080/",
     "height": 1000
    },
    "id": "_WFWXgkOn07M",
    "outputId": "394f7968-e030-4e1e-e6c1-46559d35464e"
   },
   "outputs": [
    {
     "name": "stderr",
     "output_type": "stream",
     "text": [
      "\r[*********************100%***********************]  1 of 1 completed\n"
     ]
    },
    {
     "name": "stdout",
     "output_type": "stream",
     "text": [
      "## 台積電近期趨勢報告 (2024年11月14日至2024年11月29日)\n",
      "\n",
      "**報告日期:** 2024年11月30日\n",
      "\n",
      "**分析師:**  [您的姓名/證券分析師編號]\n",
      "\n",
      "\n",
      "**一、 價格走勢分析:**\n",
      "\n",
      "本報告分析台積電在2024年11月14日至2024年11月29日期間的價格走勢。從提供的數據顯示，台積電股價呈現震盪下跌趨勢，期間最高價為1035元，最低價為992元，收盤價從1025元跌至994元，跌幅約為3.04%。\n",
      "\n",
      "| 日期        | 收盤價 | 每日報酬 (%) |\n",
      "|-------------|---------|-----------------|\n",
      "| 2024-11-14  | 1025.0  |     NaN          |\n",
      "| 2024-11-15  | 1030.0  |     0.49         |\n",
      "| 2024-11-18  | 1020.0  |    -0.97         |\n",
      "| 2024-11-19  | 1025.0  |     0.49         |\n",
      "| 2024-11-20  | 1025.0  |     0.00         |\n",
      "| 2024-11-21  | 1010.0  |    -1.46         |\n",
      "| 2024-11-22  | 1035.0  |     2.47         |\n",
      "| 2024-11-25  | 1030.0  |    -0.48         |\n",
      "| 2024-11-26  | 1010.0  |    -1.94         |\n",
      "| 2024-11-27  | 1000.0  |    -0.99         |\n",
      "| 2024-11-28  | 992.0   |    -0.80         |\n",
      "| 2024-11-29  | 994.0   |     0.20         |\n",
      "\n",
      "\n",
      "**觀察重點:**  股價在1000元至1035元區間震盪，但整體趨勢偏弱，顯示市場信心有所減弱。尤其在11月21日至11月29日期間，股價持續下探，顯示賣壓較大。\n",
      "\n",
      "\n",
      "**二、 營收與獲利分析:**\n",
      "\n",
      "提供的季度營收數據顯示，台積電的營收成長率呈現波動，但整體來看，2024年前三季的營收成長率維持正成長，其中2024年第二季的營收成長率最高，達到14%。EPS方面，雖然第三季EPS季增率呈現負成長(-6%)，但整體EPS趨勢仍向好，顯示公司營運的基本面仍然穩健。  然而，僅憑季度資料難以完整判斷公司整體營運狀況，需參考更長時間序列的數據以及更全面的財務報表。\n",
      "\n",
      "\n",
      "**三、 新聞資訊分析:**\n",
      "\n",
      "新聞資訊主要圍繞著以下幾個方面：\n",
      "\n",
      "* **股價波動:** 多篇新聞提及台積電股價在千元關卡附近拉鋸，市場觀望氣氛濃厚，外資賣超也是影響股價的重要因素。\n",
      "* **地緣政治風險:**  川普即將上任，其政策的不確定性被認為是影響台積電股價的潛在風險，許多分析師建議投資者關注「川普概念股」。\n",
      "* **產業前景:**  iPhone 17 系列的升級將有利於台積電的晶片業務，而AI相關產業的持續發展也將為台積電帶來新的成長動能。然而，費半指數下跌也暗示整體半導體產業可能面臨一定的壓力。\n",
      "* **市場分析師觀點:**  部分分析師對台積電的後市持樂觀態度，認為其基本面良好，向上格局不變；但也有分析師提醒投資者注意外資動態及地緣政治風險。\n",
      "\n",
      "\n",
      "**四、  綜合分析與結論:**\n",
      "\n",
      "基於以上價格走勢、營收獲利及新聞資訊的分析，我們認為台積電近期股價下跌主要受以下因素影響：\n",
      "\n",
      "* **全球經濟前景不明朗:** 美股四大指數下跌，反映全球經濟增長放緩的擔憂。\n",
      "* **外資持續調節持股:**  外資連續多日賣超台股，對股價造成一定的壓力。\n",
      "* **川普上任的不確定性:**  川普的政策走向可能對台積電的營運產生影響，造成市場觀望。\n",
      "\n",
      "\n",
      "儘管短期內股價存在一定的波動風險，但考慮到台積電在全球半導體產業的領先地位、穩健的營運基本面以及未來AI、5G等新興科技的發展前景，我們認為台積電的長期投資價值仍然存在。  然而，投資者仍需密切關注國際局勢、產業動態及公司財報等信息，謹慎做出投資決策。  建議投資者採取中長線投資策略，並適當分散投資風險。\n",
      "\n",
      "\n",
      "**免責聲明:** 本報告僅供參考，不構成任何投資建議。投資者應根據自身情況，獨立判斷，承擔投資風險。\n",
      "\n"
     ]
    }
   ],
   "source": [
    "reply = stock_analysis.stock_gimini_analysis('2330')\n",
    "print(reply)"
   ]
  },
  {
   "cell_type": "markdown",
   "metadata": {
    "id": "eL7FpHS1zo86"
   },
   "source": [
    "# 收集多檔股票的趨勢報告"
   ]
  },
  {
   "cell_type": "code",
   "execution_count": 10,
   "metadata": {
    "colab": {
     "base_uri": "https://localhost:8080/",
     "height": 1000
    },
    "id": "evtGkKjVy0fn",
    "outputId": "7cf86d3d-15fa-4af7-a0c3-b22dd3a7ae9d"
   },
   "outputs": [
    {
     "name": "stderr",
     "output_type": "stream",
     "text": [
      "[*********************100%***********************]  1 of 1 completed\n",
      "[*********************100%***********************]  1 of 1 completed\n",
      "[*********************100%***********************]  1 of 1 completed\n",
      "[*********************100%***********************]  1 of 1 completed\n",
      "[*********************100%***********************]  1 of 1 completed\n"
     ]
    },
    {
     "data": {
      "text/plain": [
       "{'2377': '## 微星科技股份有限公司近期趨勢報告 (2024年11月)\\n\\n**報告日期:** 2024年11月30日\\n\\n**分析師:**  [您的姓名/證券分析師代號]\\n\\n\\n**一、 執行摘要:**\\n\\n微星科技(2377-TW)近期股價呈現震盪走跌趨勢，在11月14日至11月29日期間，收盤價從170.5元跌至166元，跌幅約為2.64%。儘管每日報酬率波動不大，但整體趨勢偏弱。此波股價下跌可能與整體大盤修正、AI伺服器相關個股短期獲利了結，以及市場對微星在AI伺服器領域布局進度的觀望情緒有關。然而，近期多則新聞顯示微星積極佈局AI伺服器市場，並獲得外資調升目標價，暗示其長期發展潛力仍然值得關注。  本報告將深入分析微星近期的價格走勢、財務狀況以及相關新聞資訊，以評估其未來發展趨勢。\\n\\n\\n**二、 近期價格走勢分析:**\\n\\n下表顯示微星科技在2024年11月14日至29日期間的收盤價及每日報酬率：\\n\\n| 日期        | 收盤價 | 每日報酬率 |\\n|-------------|---------|-------------|\\n| 2024-11-14  | 170.5   | NaN          |\\n| 2024-11-15  | 167.0   | -2.05%      |\\n| 2024-11-18  | 165.5   | -0.90%      |\\n| 2024-11-19  | 168.5   | 1.81%       |\\n| 2024-11-20  | 171.5   | 1.78%       |\\n| 2024-11-21  | 169.0   | -1.46%      |\\n| 2024-11-22  | 172.5   | 2.07%       |\\n| 2024-11-25  | 173.0   | 0.29%       |\\n| 2024-11-26  | 172.0   | -0.58%      |\\n| 2024-11-27  | 170.0   | -1.16%      |\\n| 2024-11-28  | 168.0   | -1.18%      |\\n| 2024-11-29  | 166.0   | -1.19%      |\\n\\n\\n從數據觀察，微星股價在11月中下旬呈現小幅震盪下跌，波動幅度相對較小。缺乏明顯的向上或向下趨勢，顯示市場觀望情緒濃厚。  需要結合其他因素進行更深入的分析。\\n\\n\\n**三、 財務狀況分析:**\\n\\n提供的資料僅包含部分營收及EPS資訊，缺乏完整財務報表數據，難以進行全面的財務狀況分析。  已知資料顯示：\\n\\n* **營收成長率:** 近幾個季度呈現震盪，既有正成長也有負成長，顯示公司營收受市場環境影響較大。  缺乏具體數據，難以評估其營收的穩定性。\\n* **EPS:**  呈現下滑趨勢，但缺乏連續幾個季度的數據，無法判斷此趨勢是否可持續。需要更完整的數據進行深入分析。\\n* **EPS季增率:**  數據顯示EPS季增率有正有負，變化較大，同樣需要更多數據佐證長期趨勢。\\n\\n\\n**四、 新聞資訊分析:**\\n\\n提供的新聞資訊主要圍繞以下幾個方面：\\n\\n* **AI伺服器市場布局:** 多篇新聞提及微星積極投入AI伺服器市場，並在SC24展覽中發表相關產品，以及擴編人才。  Factset更調升微星目標價至195元，顯示市場對其在AI領域的潛力抱持正面看法。\\n* **輝達供應鏈:** 微星身為輝達的供應鏈夥伴，受益於輝達在AI領域的強勁增長。  輝達財報及展望影響微星股價波動，但市場對於GB200的出貨及產能爬坡進度存在觀望。\\n* **其他業務拓展:** 微星也積極拓展智慧建築等領域，顯示其多元化發展策略。\\n\\n**五、 結論與展望:**\\n\\n微星近期股價呈現震盪下跌，但市場對於其在AI伺服器領域的長期發展潛力仍抱持正面態度。  外資調升目標價以及公司積極的市場布局都暗示其具備一定的成長潛力。然而，缺乏完整的財務數據以及對GB200出貨進度的持續觀望，使短期股價預測存在不確定性。\\n\\n**建議:**\\n\\n* **持續追蹤微星在AI伺服器領域的進展:** 包括產品銷售情況、產能利用率以及市場佔有率等指標。\\n* **關注輝達的財報及產業動態:** 輝達的發展對於微星的股價表現具有重要影響。\\n* **收集更完整的財務數據:**  進行更深入的財務分析，評估公司的盈利能力和財務風險。\\n* **密切關注大盤走勢:**  整體市場環境對於微星股價亦有影響。\\n\\n\\n**免責聲明:** 本報告僅供參考，不構成任何投資建議。投資人應根據自身風險承受能力和投資目標，獨立判斷並承擔投資風險。\\n\\n\\n**備註:** 本報告基於提供的有限數據進行分析，若能提供更完整的財務數據和市場資訊，將能得出更準確和全面的分析結果。\\n',\n",
       " '2464': '## 盟立(股票代碼：需補充) 近期趨勢分析報告\\n\\n**報告日期：** 2024年11月30日\\n\\n**分析師：**  (您的姓名/機構名稱)\\n\\n\\n**一、 執行摘要**\\n\\n盟立近期股價呈現震盪走勢，在11月中旬至下旬經歷較大幅度的價格波動，隨後略微回落。從提供的數據觀察，短期內股價缺乏明顯的單邊趨勢，需進一步綜合基本面及市場因素進行深入分析。  公司10月營收表現亮眼，年增率達20.42%，顯示營運狀況相對穩健。然而，第三季EPS數據顯示增長趨緩，需要關注未來營收及獲利能力的持續性。  近期新聞提及黃仁勳對機器人產業的看好以及公司自身的一些財務公告，對股價走勢或多或少產生影響，但其影響程度仍需進一步觀察。\\n\\n\\n**二、 價格與報酬率分析**\\n\\n(表1) 盟立近期股價與每日報酬率\\n\\n| 日期        | 收盤價      | 每日報酬率(%) |\\n|------------|-------------|-----------------|\\n| 2024-11-14 | 74.70        |      -          |\\n| 2024-11-15 | 75.00        |      0.40       |\\n| 2024-11-18 | 71.20        |     -5.07       |\\n| 2024-11-19 | 71.20        |      0.00       |\\n| 2024-11-20 | 74.80        |      5.06       |\\n| 2024-11-21 | 73.90        |     -1.20       |\\n| 2024-11-22 | 74.60        |      0.95       |\\n| 2024-11-25 | 75.40        |      1.07       |\\n| 2024-11-26 | 75.50        |      0.13       |\\n| 2024-11-27 | 74.40        |     -1.45       |\\n| 2024-11-28 | 73.10        |     -1.75       |\\n| 2024-11-29 | 72.90        |     -0.27       |\\n\\n\\n從表1可以看出，盟立股價在觀察期間波動較大，缺乏持續性上漲或下跌趨勢。11月18日出現單日跌幅超過5%，顯示市場存在一定的不確定性。  隨後幾天股價出現反彈，但最終仍以小幅下跌作收。  這需要結合後續消息及技術指標進行更深入的分析，以判斷價格波動的原因和未來走勢。\\n\\n\\n**三、 基本面分析**\\n\\n**(一) 營收狀況:**\\n\\n盟立10月份營收7.63億元，年增20.42%，表現亮眼。1-10月累計營收達61.23億元。  這顯示公司在某些產品線或市場上的銷售表現良好，但需進一步了解其營收結構的組成，才能更準確評估其持續性。\\n\\n**(二) 獲利能力:**\\n\\n提供的第三季合併財務報告顯示，累計至9月30日的基本每股盈餘(EPS)為0.23元。雖然營收表現不錯，但EPS增長幅度相對有限， 需要進一步分析其毛利率、淨利率等指標，以及研判其獲利能力是否受到成本上升或其他因素影響。  此外，需參考歷年EPS數據，觀察其獲利能力的長期趨勢。\\n\\n**(三) 季營收及EPS成長率:**\\n\\n| 季日期      | 營收成長率(%) | EPS    | EPS季增率(%) |\\n|------------|-----------------|--------|-----------------|\\n| 2024-09-30  | 0.25            | 0.1    | 0.44            |\\n| 2024-06-30  | 0.22            | 0.07   | 0.17            |\\n| 2024-03-31  | -0.31           | 0.06   | -0.71           |\\n| 2023-12-31  | -0.14           | 0.02   |     -            |\\n\\n\\n從歷史營收及EPS數據來看，盟立的營收和獲利能力呈現波動，部分季度出現負成長，顯示其營運受到市場環境的影響較大。  需要進一步調查影響營收及EPS波動的因素。\\n\\n\\n**四、 新聞資訊分析**\\n\\n近期新聞提及黃仁勳對機器人產業的樂觀展望，以及盟立自身的一些財務公告，例如現金增資、公司債轉換等。  這些消息對股價可能產生正面或負面影響，但其影響程度和持續時間難以準確預測，需要觀察市場反應。  新聞中也提及大戶買進散戶拋售的情況(85.71%)，這暗示市場存在多空分歧，需進一步分析其原因及影響。\\n\\n\\n**五、 風險因素**\\n\\n* **市場風險:** 全球經濟下行風險、地緣政治風險等都可能影響盟立的營運和股價。\\n* **產業競爭:** 機器人產業競爭激烈，盟立需要不斷提升技術和產品競爭力，才能保持市場份額。\\n* **匯率風險:**  若盟立有海外業務，匯率波動可能影響其獲利。\\n\\n\\n**六、 結論與建議**\\n\\n盟立近期股價表現震盪，缺乏明確方向。雖然10月份營收增長強勁，但從EPS數據觀察，獲利能力增長趨緩，需要持續觀察其營運狀況。  近期新聞消息對股價的影響有待觀察。  投資者應密切關注公司財報及產業發展趨勢，並謹慎評估投資風險。  建議進一步分析盟立的產品組合、毛利率、淨利率等指標，並結合技術分析，才能更全面的評估其投資價值。  由於缺乏完整的財務數據以及更長期的價格數據，本報告的分析僅基於提供的有限資訊，結果可能存在一定的局限性。\\n\\n\\n**免責聲明:** 本報告僅供參考，不構成任何投資建議。投資人應自行承擔投資風險。\\n\\n\\n**(備註：本報告需要補充盟立的股票代碼以及更全面的財務數據才能提供更準確和詳細的分析。)**\\n',\n",
       " '2467': '## 志聖(2467) 近期趨勢報告\\n\\n**報告日期：** 2024年11月30日\\n\\n**分析師：**  [你的名字/機構名稱]\\n\\n\\n**一、 執行摘要**\\n\\n志聖(2467) 近期股價呈現震盪下跌趨勢。儘管10月份營收年增37.02%，表現亮眼，但隨後股價卻持續下滑，顯示市場可能對其後續營運展望存疑。  本報告將綜合分析其近期股價表現、財務數據及新聞資訊，探討其潛在風險及投資機會。\\n\\n\\n**二、 股價走勢分析**\\n\\n(資料來源：提供之「近期價格資訊」)\\n\\n從2024年11月14日至11月29日的股價走勢來看，志聖股價呈現明顯下跌趨勢，從206.5元跌至193.5元，跌幅超過6%。期間雖有短暫反彈，最高漲至218元，但未能站穩高點，最終仍以收跌作收。  每日報酬率波動較大，顯示市場情緒不穩定。 11月20日單日漲幅達6.6%，可能與正面新聞或市場情緒推動有關，但此漲勢未能持續。  持續下跌的趨勢，以及出現多次負報酬，顯示投資者信心減弱。\\n\\n\\n**三、 財務數據分析**\\n\\n(資料來源：提供之「每季營收資訊」)\\n\\n* **營收成長率:**  從提供的數據來看，志聖近四季的營收成長率呈現波動，2024年第三季出現-22%的負成長，顯示營運狀況可能面臨挑戰。  然而，前一季(2024年第二季)營收成長率為25%，顯示營運狀況具有一定的不確定性。\\n\\n* **EPS:**  EPS數據顯示公司獲利能力同樣存在波動，顯示其營運及獲利能力仍需持續觀察。  值得注意的是，2024年第三季的EPS較前一季明顯下滑，這與營收成長率下滑相符。\\n\\n* **EPS季增率:** EPS季增率數據也顯示出公司獲利能力的波動性，這需要進一步探討其背後的原因，例如產業景氣變化、產品銷售狀況等等。\\n\\n**四、 新聞資訊分析**\\n\\n(資料來源：提供之「近期新聞資訊」)\\n\\n新聞資訊顯示，志聖近期積極參與投資論壇，並公布10月份亮眼營收數字。然而，股價並未因此反應正面，反而持續下跌。  新聞中多次出現「偏弱機會股」、「波段回檔股」、「下跌三黑K線」等負面標籤，顯示市場對其後市展望偏向保守。  這些負面標籤暗示著技術面上的弱勢，需要進一步觀察其後續的價格表現。\\n\\n\\n**五、 風險評估**\\n\\n* **產業景氣波動:** 半導體產業景氣週期性強，志聖作為半導體設備廠商，容易受到產業景氣波動的影響。  近期營收成長率下滑，可能預示產業景氣的轉弱。\\n\\n* **市場情緒影響:**  股價的劇烈波動反映了市場情緒的不穩定，負面新聞及技術指標的弱勢，可能加劇市場的恐慌性拋售。\\n\\n* **競爭加劇:**  半導體設備產業競爭激烈，志聖需要不斷提升技術及產品競爭力，才能維持市場份額。\\n\\n\\n**六、 投資建議**\\n\\n基於以上分析，目前對志聖的投資建議為**審慎觀望**。  儘管10月份營收數據亮眼，但股價持續下跌，以及財務數據顯示營運及獲利能力的波動性，都暗示著潛在風險。  建議投資者密切關注其12月4日的法人說明會，了解公司對未來營運的展望，並進一步評估其投資價值。  在風險承受能力較低的投資者，應避免追高，並謹慎評估投資風險。  後續應持續關注其營收、獲利及產業發展趨勢，再做進一步的投資決策。\\n\\n\\n**七、 免責聲明**\\n\\n本報告僅供參考，不構成任何投資建議。投資人應根據自身風險承受能力及投資目標，獨立判斷，審慎做出投資決策，並自負投資風險。  本報告所使用的數據及資訊來自公開渠道，其準確性及完整性無法完全保證。\\n',\n",
       " '3533': '## 嘉澤(3533-TW) 近期趨勢分析報告\\n\\n**報告日期：** 2024年11月30日\\n\\n**分析師：**  [您的姓名/證券分析師編號]\\n\\n\\n**一、 摘要**\\n\\n嘉澤近期股價呈現震盪走勢，11月中下旬股價出現下跌，但根據其強勁的營收成長和Factset預估的EPS，顯示公司基本面良好。然而，需持續觀察股價波動與市場整體趨勢，以評估投資風險。本報告將深入分析嘉澤近期股價表現、財務狀況及新聞資訊，提供更全面的投資建議。\\n\\n\\n**二、 股價走勢分析**\\n\\n根據提供的資料，嘉澤(3533-TW) 2024年11月14日至11月29日的股價波動如下：\\n\\n| 日期        | 收盤價 | 每日報酬 (%) |\\n|-------------|---------|-----------------|\\n| 2024-11-14  | 1690.0  | -               |\\n| 2024-11-15  | 1635.0  | -3.25            |\\n| 2024-11-18  | 1625.0  | -0.61            |\\n| 2024-11-19  | 1660.0  | 2.15            |\\n| 2024-11-20  | 1715.0  | 3.31            |\\n| 2024-11-21  | 1690.0  | -1.46            |\\n| 2024-11-22  | 1695.0  | 0.30            |\\n| 2024-11-25  | 1720.0  | 1.47            |\\n| 2024-11-26  | 1685.0  | -2.03            |\\n| 2024-11-27  | 1650.0  | -2.08            |\\n| 2024-11-28  | 1620.0  | -1.82            |\\n| 2024-11-29  | 1635.0  | 0.93            |\\n\\n\\n從數據可以看出，嘉澤股價在觀察期間呈現震盪下跌趨勢，最高價為1720元，最低價為1620元。短期內波動幅度相對較大，顯示市場對嘉澤的投資信心存在一定程度的猶豫。\\n\\n\\n**三、 財務狀況分析**\\n\\n提供的每季營收資訊顯示，嘉澤的營收成長率在過去幾季表現不一，但整體呈現相對穩定的態勢。\\n\\n* **2024年第三季：** 營收成長率9%，EPS為18.33元，季增率-8%。\\n* **2024年第二季：** 營收成長率16%，EPS為20.0元，季增率8%。\\n* **2024年第一季：** 營收下降2%，EPS為18.57元，季增率11%。\\n* **2023年第三季：** 營收成長率13%，EPS為16.77元，季增率45%。\\n\\n值得注意的是，2024年11月8日發布的新聞顯示，嘉澤10月營收達27.61億元，年增率高達35.51%，1-10月累計營收已達245.78億元。這顯示嘉澤的營收成長動能仍然強勁。\\n\\n\\n**四、 新聞資訊分析**\\n\\n多則新聞報導嘉澤的財務狀況及公司動態，其中幾個關鍵點：\\n\\n* **財報公布及更正:**  顯示公司財務數據的透明度，雖然曾有更正公告，但更正幅度並未對公司基本面造成重大影響。\\n* **購置不動產:**  顯示公司對未來發展的信心和投資意願，但需觀察此項投資對公司營運的實際影響。\\n* **Factset EPS預估下修:** Factset預估嘉澤EPS為78.58元，目標價為1850元，這與公司近期股價表現存在差距，需要進一步分析預估的基礎與準確性。\\n* **十月營收大幅成長:**  這是個重要的利多訊息，顯示公司業務持續擴張。\\n\\n\\n**五、 風險評估**\\n\\n* **市場風險:**  整體股市波動可能會影響嘉澤的股價表現。\\n* **產業競爭:**  電子零組件產業競爭激烈，嘉澤需要持續保持競爭力。\\n* **財務預估風險:** Factset的EPS預估存在不確定性，需謹慎看待。\\n\\n\\n**六、 投資建議**\\n\\n基於嘉澤強勁的營收成長和相對穩定的獲利能力，以及Factset相對樂觀的預期，雖然近期股價呈現震盪下跌，但中長期而言仍具備一定的投資價值。然而，投資者需密切關注市場整體趨勢、公司財務狀況和產業競爭情況，並做好風險管理。建議採取分批進場策略，降低投資風險。  目前股價處於相對低點，可以列入觀察名單，待股價趨勢明朗後再做進一步的投資決策。\\n\\n\\n**七、 免責聲明**\\n\\n本報告僅供參考，不構成任何投資建議。投資者應根據自身情況，獨立判斷，承擔投資風險。\\n\\n\\n**八、 附錄**\\n\\n(可加入圖表，例如股價走勢圖、營收成長率圖表等，以更直觀地呈現分析結果)\\n',\n",
       " '4562': '**穎漢(4562) 近期趨勢報告**\\n\\n**報告日期：2024年11月30日**\\n\\n**分析師：** [您的姓名/分析師代號]\\n\\n\\n**一、 執行摘要:**\\n\\n穎漢(4562)近期股價呈現震盪走勢，11月中下旬股價一度上漲至67元以上，但隨後遭遇回檔，至11月29日收盤價為63.09元，跌破近期低點。從提供的數據來看，公司營收表現不佳，且近期新聞多為短期股價波動的報導，缺乏公司基本面改善的資訊。投資人需謹慎評估風險，密切關注公司營運狀況及相關產業發展。\\n\\n\\n**二、 價格走勢分析:**\\n\\n根據提供的11月14日至11月29日收盤價數據，穎漢股價波動劇烈。股價在11月18日至20日期間出現一波明顯上漲，漲幅超過4%，收盤價突破65元大關。然而，隨後的幾天股價出現回落，並在11月28日至29日連續兩天大幅下跌，累計跌幅超過6%。整體而言，該期間股價呈現先漲後跌的震盪格局，顯示市場對穎漢的投資信心存在較大不確定性。每日報酬率也印證了這一點，顯示股價波動劇烈，投資風險較高。\\n\\n\\n**三、 財務狀況分析:**\\n\\n提供的營收數據顯示，穎漢近四季的營收表現並不理想。2024年第三季營收雖有成長，但前三季的EPS皆為負值，顯示公司盈利能力仍待改善。  EPS 季增率也呈現不穩定狀態，顯示公司獲利能力不佳且缺乏持續性。缺乏更詳細的財務報表數據，難以做更深入的分析，例如毛利率、淨利率等指標的變動情況。\\n\\n\\n**四、 新聞事件分析:**\\n\\n提供的新聞資訊主要集中在短期股價波動的報導，例如11月26日股價漲停，11月27日股價大幅下跌等。這些新聞多與市場情緒、消息面炒作有關，缺乏公司基本面改善的實質內容。新聞中提及穎漢與機器人相關產業的連結，但這只停留在概念層面，缺乏具體的業績佐證。  需持續追蹤相關新聞，以判斷這些消息是否對公司營運產生長期影響。\\n\\n\\n**五、 技術分析 (初步判斷):**\\n\\n由於數據時間跨度較短，僅能做初步技術分析判斷。從股價走勢圖觀察，近期股價跌破了先前支撐位，技術指標也可能顯示看跌訊號 (需完整技術指標數據才能確認)，顯示空方力量較強。但僅憑幾天的數據，難以做出準確的技術判斷。\\n\\n\\n**六、 風險評估:**\\n\\n穎漢目前面臨的主要風險包括：\\n\\n* **營運風險:**  公司營收持續低迷，盈利能力不足，是主要風險因素。\\n* **市場風險:**  股價波動劇烈，市場情緒易受消息面影響，投資風險高。\\n* **產業風險:**  機器人產業競爭激烈，穎漢在該產業中的競爭優勢及市場地位有待觀察。\\n* **資訊不足風險:** 提供的資料有限，無法全面評估公司營運狀況及未來發展前景。\\n\\n**七、 投資建議:**\\n\\n基於目前提供的資訊，我們對穎漢的投資建議是 **謹慎觀望**。  需要更多公司基本面資訊，例如詳細財務報表、未來營運規劃、產業競爭分析等，才能做出更全面的投資判斷。  建議投資人密切關注公司動態，並做好風險管理。\\n\\n\\n**八、 免責聲明:**\\n\\n本報告僅供參考，不構成任何投資建議。投資人應根據自身風險承受能力及投資目標，獨立判斷並承擔投資風險。  本報告所使用的數據均來自公開資訊，其準確性及完整性無法保證。\\n\\n\\n**九、  後續追蹤:**\\n\\n我們將持續關注穎漢的相關資訊，並在獲得更多數據後更新本報告。\\n'}"
      ]
     },
     "execution_count": 10,
     "metadata": {},
     "output_type": "execute_result"
    }
   ],
   "source": [
    "# 建立股票清單\n",
    "stock_list = ['2330', '8249', '5484', '8374', '2359','2377','2464','2467','3533','4562']\n",
    "\n",
    "# 設定儲存路徑\n",
    "today_time = dt.date.today().strftime('%Y%m%d')\n",
    "path = './StockGemini/TrendReport/'\n",
    "os.makedirs(path, exist_ok=True)\n",
    "\n",
    "# 建立多檔股票的趨勢報告並儲存\n",
    "content = {}\n",
    "\n",
    "for stock in stock_list:\n",
    "    file_path = f\"{path}trend_{stock}_{today_time}.txt\"\n",
    "\n",
    "    if not os.path.exists(file_path):\n",
    "        with open(file_path, \"w\", encoding=\"utf-8\") as f:\n",
    "            f.write(stock_analysis.stock_gimini_analysis(stock_id=stock))\n",
    "\n",
    "        with open(file_path, \"r\", encoding=\"utf-8\") as f:\n",
    "            content[stock] = f.read()\n",
    "\n",
    "# 印出所有股票的趨勢報告\n",
    "content"
   ]
  },
  {
   "cell_type": "markdown",
   "metadata": {
    "id": "juL1g0TQMfdY"
   },
   "source": [
    "# 推薦一檔股票"
   ]
  },
  {
   "cell_type": "code",
   "execution_count": 11,
   "metadata": {
    "colab": {
     "base_uri": "https://localhost:8080/",
     "height": 662
    },
    "id": "mCNCiKuR57aW",
    "outputId": "7f9d4653-cfec-431d-a442-f6e6a15a75fa"
   },
   "outputs": [
    {
     "name": "stdout",
     "output_type": "stream",
     "text": [
      "身為一位專業的證券分析師，經過對提供的資料分析，我認為目前最適合投資的股票是**嘉澤(3533-TW)**，即便目前市場存在不確定性。\n",
      "\n",
      "**理由如下:**\n",
      "\n",
      "儘管近期嘉澤股價呈現震盪，但其基本面相對穩健，展現出比其他股票更強的抗跌性及成長潛力：\n",
      "\n",
      "1. **強勁的營收成長:**  10月份營收年增率高達35.51%，顯示公司營運持續擴張，這遠優於其他幾檔股票提供的營收數據。持續高增長的營收是支撐股價的重要因素。\n",
      "\n",
      "2. **相對穩定的獲利能力:** 雖然嘉澤的EPS季增率在不同季度有所波動，但整體而言，其EPS仍維持在相對較高的水平。與其他幾檔公司相比，嘉澤的獲利能力更為穩定，風險相對較低。  雖然第三季EPS季增率為負，但整體營收表現強勁，值得持續觀察。\n",
      "\n",
      "3. **Factset樂觀預期:** 雖然Factset的EPS預估存在不確定性，但預估值仍相對樂觀，暗示市場對嘉澤的長期發展抱持正面看法，這與其他公司缺乏正面預期或預期下修形成對比。\n",
      "\n",
      "4. **相對較低的股價:**  目前嘉澤股價相對低點，這提供了一個較低的進場成本，降低投資風險。  相對其他股票，其股價下跌幅度也較小。\n",
      "\n",
      "5. **積極的投資策略:**  新聞中提及嘉澤購置不動產，顯示公司對未來發展充滿信心，並積極投資擴展業務。\n",
      "\n",
      "**風險考量:**\n",
      "\n",
      "當然，投資嘉澤也存在一定的風險，例如市場整體波動、產業競爭以及Factset預估的不確定性等。  因此，建議投資者採取分批進場策略，降低投資風險，並持續密切關注市場變化和公司財報。\n",
      "\n",
      "\n",
      "**其他股票的評估:**\n",
      "\n",
      "* **微星(2377):**  雖然積極佈局AI伺服器市場，具備長期發展潛力，但近期股價震盪下跌，且缺乏完整的財務數據，短期內存在較大的不確定性，風險較高。\n",
      "\n",
      "* **盟立(2464):** 10月份營收增長亮眼，但EPS增長趨緩，且股價波動較大，缺乏持續性上漲趨勢，風險亦高。\n",
      "\n",
      "* **志聖(2467):** 10月份營收增長顯著，但隨後股價持續下跌，財務數據顯示營運及獲利能力波動性大，風險較高。\n",
      "\n",
      "* **穎漢(4562):**  營收表現不佳，EPS為負值，股價波動劇烈，風險過高，不建議投資。\n",
      "\n",
      "\n",
      "**結論:**\n",
      "\n",
      "綜上所述，在現有資訊下，嘉澤(3533-TW) 雖然股價近期震盪，但其基本面相對穩健，成長動能強勁，且風險相對可控，因此是目前最適合投資的一檔股票。  然而，投資決策仍需基於自身風險承受能力和投資目標，謹慎評估。  本分析僅供參考，不構成任何投資建議。\n",
      "\n"
     ]
    }
   ],
   "source": [
    "reply = stock_analysis.stock_gimini_choice(str(content))\n",
    "print(reply)"
   ]
  },
  {
   "cell_type": "markdown",
   "metadata": {
    "id": "Rnx4XFsMBgaU"
   },
   "source": [
    "# 推薦股票的評分排序"
   ]
  },
  {
   "cell_type": "code",
   "execution_count": 12,
   "metadata": {
    "colab": {
     "base_uri": "https://localhost:8080/",
     "height": 624
    },
    "id": "mGLYrhMNNQoH",
    "outputId": "69f8db54-9d28-48ef-f360-bbfe8d9e24c3"
   },
   "outputs": [
    {
     "name": "stdout",
     "output_type": "stream",
     "text": [
      "身為專業股票分析師，我根據提供的報告，對各支股票進行評分 (0-100)：\n",
      "\n",
      "**評分標準:**\n",
      "\n",
      "* **股價:** 上漲加分，下跌扣分，幅度影響分數多寡。\n",
      "* **法人動向:** 買超加分，賣超扣分。\n",
      "* **營收:** 成長上升加分，下降扣分，幅度影響分數多寡。\n",
      "* **新聞:** 正面消息加分，負面消息扣分。\n",
      "* **其他基本面:**  例如EPS、獲利能力等，也會納入考量。\n",
      "\n",
      "\n",
      "**評分結果:**\n",
      "\n",
      "* **2377 微星科技:** 股價小幅下跌，但有外資調升目標價的正面消息，以及積極佈局AI伺服器市場的利多，抵銷部分股價下跌的影響。 營收及EPS數據不足，難以給予高分。評分：**60**\n",
      "\n",
      "* **2464 盟立:** 10月營收年增20.42%，為正面指標，但EPS增長趨緩，且股價波動較大。黃仁勳對機器人產業的正面評價也為其加分。  整體而言，基本面表現尚可，但股價波動風險較高。評分：**55**\n",
      "\n",
      "* **2467 志聖:** 10月營收年增37.02%，但股價持續下跌，且第三季營收負成長，EPS也下滑。新聞多為負面訊息，顯示市場觀望情緒濃厚。評分：**40**\n",
      "\n",
      "* **3533 嘉澤:** 10月營收年增35.51%，為極為正面的指標，雖然股價有震盪，但整體仍維持在相對高點。Factset預估EPS也相對樂觀，但需謹慎看待預估的準確性。評分：**75**\n",
      "\n",
      "* **4562 穎漢:** 營收表現不佳，EPS為負值，股價雖一度上漲，但最終下跌，且新聞多為短期股價波動的報導，缺乏公司基本面改善的資訊。評分：**30**\n",
      "\n",
      "\n",
      "**股票評分排序 (由高到低):**\n",
      "\n",
      "1. **3533 嘉澤 (75)**\n",
      "2. **2377 微星科技 (60)**\n",
      "3. **2464 盟立 (55)**\n",
      "4. **2467 志聖 (40)**\n",
      "5. **4562 穎漢 (30)**\n",
      "\n",
      "\n",
      "**免責聲明:** 以上評分及分析僅供參考，不構成任何投資建議。投資人應自行判斷，並承擔所有投資風險。  本分析基於提供的有限資訊，若能提供更完整的數據，分析結果可能會有調整。\n",
      "\n"
     ]
    }
   ],
   "source": [
    "reply = stock_analysis.stock_gimini_sort(str(content))\n",
    "print(reply)"
   ]
  }
 ],
 "metadata": {
  "colab": {
   "provenance": []
  },
  "kernelspec": {
   "display_name": "Python 3",
   "name": "python3"
  },
  "language_info": {
   "name": "python"
  }
 },
 "nbformat": 4,
 "nbformat_minor": 0
}
